{
 "cells": [
  {
   "cell_type": "code",
   "execution_count": null,
   "metadata": {},
   "outputs": [],
   "source": [
    "import pandas as pd\n",
    "from datetime import datetime\n",
    "import plotly.express as px\n",
    "import plotly.graph_objects as go\n",
    "from plotly.subplots import make_subplots\n",
    "path_to_sep='../outputs/flare_data.json'\n",
    "\n",
    "\n"
   ]
  },
  {
   "cell_type": "code",
   "execution_count": null,
   "metadata": {},
   "outputs": [],
   "source": [
    "df = pd.read_json(path_to_sep)"
   ]
  },
  {
   "cell_type": "code",
   "execution_count": null,
   "metadata": {},
   "outputs": [],
   "source": [
    "df = pd.read_json(path_to_sep)\n",
    "\n",
    "date_format = '%Y-%m-%dT%H:%MZ'\n",
    "\n",
    "df['Time (UTC)'] = df['peakTime'].apply(lambda x: datetime.strptime(x, date_format))\n",
    "df['Time (UTC)'] = pd.to_datetime(df['Time (UTC)'])\n",
    "\n",
    "df['Time (UTC)'].head()"
   ]
  },
  {
   "cell_type": "code",
   "execution_count": null,
   "metadata": {},
   "outputs": [],
   "source": [
    "#wanting to extrapolate time...\n",
    "\n",
    "# df.set_index(['Time (UTC)'])\n",
    "# #add new dates\n",
    "# new_dates =pd.date_range(start='2010-01-01', end='2023-01-01', freq='D')\n",
    "\n",
    "# new_dates\n",
    "# df = df.reindex(new_dates, fill_value=0)"
   ]
  },
  {
   "cell_type": "code",
   "execution_count": null,
   "metadata": {},
   "outputs": [],
   "source": [
    "# def mask_energy_values(en_str):\n",
    "#     if '-' in en_str :\n",
    "#         min_max = en_str.split('-')\n",
    "#         return float(min_max[-1])+float(min_max[0])/2.\n",
    "#     if '>' in en_str:\n",
    "#         # assume min for instrument thresholds\n",
    "#         cap = en_str.strip('>')\n",
    "#         return float(cap)\n",
    "\n",
    "# df['Energy (MeV)'] = df['instruments'].apply(lambda x : str(x[0].values()).split()[-2])  #only getting first instrument energy; assumes each event is distinct.\n",
    "# df['Energy (MeV)'] = df['Energy (MeV)'].apply(lambda x :mask_energy_values(x))\n",
    "# df['Energy (MeV)'].head()\n",
    "\n"
   ]
  },
  {
   "cell_type": "code",
   "execution_count": null,
   "metadata": {},
   "outputs": [],
   "source": [
    "#px.line(data_frame=df, x='Time (UTC)', y='Energy (MeV)',title=\"Energy (MeV) per SEP event 2010-2023\")"
   ]
  },
  {
   "cell_type": "code",
   "execution_count": null,
   "metadata": {},
   "outputs": [],
   "source": [
    "df['Month']  = df['Time (UTC)'].apply(lambda x : datetime.strftime(x, \"%Y-%m\"))\n",
    "mdf=pd.DataFrame()\n",
    "mdf['Month'] = df['Month']\n",
    "mdf= mdf.groupby('Month').value_counts().rename_axis('Months').reset_index(name='events')\n",
    "\n",
    "mdf\n",
    "# ndf = pd.DataFrame()\n",
    "# ndf['Month'] = events_per_mo.index\n",
    "# ndf['counts']=events_per_mo\n",
    "# ndf\n",
    "#series.sort_values(by=['Month'])# mdf.sort_values(by=['Month'])\n",
    "# mdf\n"
   ]
  },
  {
   "cell_type": "code",
   "execution_count": null,
   "metadata": {},
   "outputs": [],
   "source": [
    "df['Month']  = df['Time (UTC)'].apply(lambda x : datetime.strftime(x, \"%Y-%m\"))\n",
    "\n",
    "monthlydf=pd.DataFrame()\n",
    "monthlydf['Events per Month'] = df['Month'].value_counts()\n",
    "# #monthlydf['Avg. Energy (MeV)'] = df.groupby('Month')['Energy (MeV)'].mean()\n",
    "monthlydf['Month'] = monthlydf.index\n",
    "monthlydf['Month'] = pd.to_datetime(monthlydf['Month'])\n",
    "\n",
    "\n",
    "#make another dataframe with imputed 0 events 0 energy monthly data for missing data (discussion point about validity of the statement.)\n",
    "mdf = monthlydf\n",
    "mdf = mdf.set_index(['Month'])\n",
    "new_dates =pd.date_range(start='2010-01-01', end='2023-01-01', freq='D')\n",
    "mdf = mdf.reindex(new_dates, fill_value=0)\n",
    "\n",
    "\n",
    "fig = make_subplots(specs=[[{\"secondary_y\": True}]])\n",
    "fig.add_trace(\n",
    "    go.Scatter(mode='markers', x=monthlydf['Month'], y=monthlydf['Events per Month'], name=\"Events Per Month\"),\n",
    "    secondary_y=False,\n",
    ")\n",
    "# fig.add_trace(\n",
    "#     go.Scatter(mode='markers', x=monthlydf['Month'], y=monthlydf['Avg. Energy (MeV)'], name=\"Avg. Energy (MeV)\"),\n",
    "#     secondary_y=True,\n",
    "# )\n",
    "\n",
    "\n",
    "fig.update_layout(\n",
    "    title_text=\"Monthly data - Number of events and average monthly energy\"\n",
    ")\n",
    "fig.update_yaxes(title_text=\"N. Events\", secondary_y=False)\n",
    "# fig.update_yaxes(title_text=\"Average Energy (MeV)\", secondary_y=True)\n",
    "fig.update_xaxes(title_text=\"Month UTC\")\n",
    "\n",
    "fig.show()\n",
    "\n",
    "\n",
    "# # px.line(data_frame=monthlydf, x='Month', y='Events per Month')\n",
    "# # px.line(data_frame=monthlydf, x='Month', y='Avg. Energy (MeV)')"
   ]
  },
  {
   "cell_type": "code",
   "execution_count": null,
   "metadata": {},
   "outputs": [],
   "source": [
    "monthlydf"
   ]
  },
  {
   "cell_type": "code",
   "execution_count": null,
   "metadata": {},
   "outputs": [],
   "source": []
  }
 ],
 "metadata": {
  "kernelspec": {
   "display_name": "py310env",
   "language": "python",
   "name": "python3"
  },
  "language_info": {
   "codemirror_mode": {
    "name": "ipython",
    "version": 3
   },
   "file_extension": ".py",
   "mimetype": "text/x-python",
   "name": "python",
   "nbconvert_exporter": "python",
   "pygments_lexer": "ipython3",
   "version": "3.10.12"
  },
  "orig_nbformat": 4
 },
 "nbformat": 4,
 "nbformat_minor": 2
}
